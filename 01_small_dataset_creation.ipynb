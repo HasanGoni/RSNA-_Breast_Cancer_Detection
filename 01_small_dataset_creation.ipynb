{
 "cells": [
  {
   "cell_type": "code",
   "execution_count": 1,
   "metadata": {},
   "outputs": [],
   "source": [
    "#| default_exp small_dataset_creation"
   ]
  },
  {
   "cell_type": "code",
   "execution_count": 2,
   "metadata": {},
   "outputs": [],
   "source": [
    "#| export\n",
    "from nbdev.showdoc import *"
   ]
  },
  {
   "cell_type": "code",
   "execution_count": 6,
   "metadata": {},
   "outputs": [],
   "source": [
    "#| export\n",
    "from pathlib import Path\n",
    "import os\n",
    "import pandas as pd\n",
    "from sklearn.model_selection import StratifiedShuffleSplit\n",
    "from sklearn.model_selection import train_test_split\n",
    "from sklearn.model_selection import StratifiedKFold\n",
    "from dataclasses import dataclass, field\n",
    "from collections import Counter\n",
    "import shutil"
   ]
  },
  {
   "cell_type": "code",
   "execution_count": 7,
   "metadata": {},
   "outputs": [],
   "source": [
    "#| export\n",
    "import timm\n",
    "from fastai.imports import *\n",
    "from fastai.vision.all import *"
   ]
  },
  {
   "cell_type": "code",
   "execution_count": 8,
   "metadata": {},
   "outputs": [],
   "source": [
    "#| export\n",
    "rnd_seed = 42\n",
    "n_s = 5\n",
    "set_seed(rnd_seed)"
   ]
  },
  {
   "cell_type": "code",
   "execution_count": 18,
   "metadata": {},
   "outputs": [],
   "source": [
    "#| export \n",
    "def process_trn_df(df_train):\n",
    "    cols = ['image_name', 'cancer']\n",
    "    return (\n",
    "        df_train\n",
    "        .assign(image_name=lambda df1: df1['patient_id'].astype(str) + \"_\"+ df1['image_id'].astype(str) +\".png\")\n",
    "        .loc[:,cols]\n",
    "    )"
   ]
  },
  {
   "cell_type": "code",
   "execution_count": 10,
   "metadata": {},
   "outputs": [],
   "source": [
    "#| export\n",
    "@dataclass\n",
    "class StratifyYSplitData:\n",
    "\n",
    "    X:str # column name for X\n",
    "    Y:str # column name for Y which needs to be stratified\n",
    "    df_t:pd.DataFrame=field(repr=False) # dataframe with all images and context data\n",
    "    train_path:Path=field(repr=False) # path to train images\n",
    "    shuffle_d:bool=True # shuffle data or not\n",
    "    random_state_:int=42 # random state\n",
    "    test_size:float=0.2 # test size\n",
    "\n",
    "    def __post_init__(self):\n",
    "        self.x_trn,  self.x_tst, self.y_trn, self.y_tst = train_test_split(\n",
    "                                                                         self.df_t[self.X].values,\n",
    "                                                                         self.df_t[self.Y].values,\n",
    "                                                                         test_size=self.test_size,\n",
    "                                                                         stratify=self.df_t[self.Y].values\n",
    "                                                                         )\n",
    "    def get_data(\n",
    "                    self,\n",
    "                    )->Tuple[List[str], List[int], List[str], List[int]]:\n",
    "        trn_img = [self.train_path/str(i) for i in self.x_trn]\n",
    "        trn_lbl = self.y_trn\n",
    "        val_img = [self.train_path/str(i) for i in self.x_tst]\n",
    "        val_lbl = self.y_tst\n",
    "\n",
    "        return (trn_img, trn_lbl), (val_img, val_lbl)\n",
    "\n",
    "    def __getitem__(self, idx:int)->Tuple[List[str], List[int]]:\n",
    "        if idx == 0:\n",
    "            (trn_img, trn_lbl), (_, _) = self.get_data()\n",
    "            return trn_img, trn_lbl\n",
    "        else:\n",
    "            (_, _), (val_img, val_lbl) = self.get_data()\n",
    "            return val_img, val_lbl\n",
    "    \n",
    "    def get_label_dict(\n",
    "                       self,\n",
    "                       data_list:str,\n",
    "                       image_list:List[Path]\n",
    "                       )->Dict[int, str]:\n",
    "        \n",
    "        if data_list == 'train':\n",
    "            x, y = self[0]\n",
    "            #print(x)\n",
    "            return {i:j for i,j in zip(x,y)}\n",
    "\n",
    "        elif data_list == 'valid':\n",
    "            x, y = self[1]\n",
    "            return {i:j for i,j in zip(x, y)}\n",
    "\n",
    "        else:\n",
    "            root_path = image_list[0].parent\n",
    "            im_name_list = [Path(i).name for i in image_list]\n",
    "\n",
    "            x,y = self[0]\n",
    "            actual_dic =  {i.name:j for i,j in zip(x, y) if Path(i).name in im_name_list}\n",
    "            return {k:v for k,v in actual_dic.items()}"
   ]
  },
  {
   "cell_type": "code",
   "execution_count": 11,
   "metadata": {},
   "outputs": [],
   "source": [
    "#| export\n",
    "def create_small_dataset(\n",
    "                        #source_:Path, # Present image path\n",
    "                        destination_:Path, # new image path where small dataset will be created\n",
    "                        image_list:List[Path], # list of images to be copied\n",
    "                        symlink_:bool=False, # whether to create symlink or copy\n",
    "                        )->None:\n",
    "    \"\"\"\n",
    "    Creates a small dataset for faster training\n",
    "    \"\"\"\n",
    "    destination_.mkdir(exist_ok=True, parents=True)\n",
    "\n",
    "\n",
    "    if symlink_:\n",
    "        print(f\"Creating symbolic link of {len(image_list)} images in {destination_}\")\n",
    "\n",
    "        [Path(f'{destination_}/{i.name}').symlink_to(i) for i in image_list if not (destination_/i.name).exists()]\n",
    "\n",
    "        print(f' number of files found in {destination_} == {len(destination_.ls())}')\n",
    "    else:\n",
    "        print(f\"Copying ... {len(image_list)} images in {destination_}\")\n",
    "        [shutil.copyfile(i, f'{destination_}/{i.name}') for i in image_list]\n",
    "        print(f' number of files found in {destination_} == {len(destination_.ls())}')\n"
   ]
  },
  {
   "cell_type": "code",
   "execution_count": 20,
   "metadata": {},
   "outputs": [],
   "source": [
    "#| hide\n",
    "import nbdev; nbdev.nbdev_export('01_small_dataset_creation.ipynb')"
   ]
  },
  {
   "cell_type": "code",
   "execution_count": null,
   "metadata": {},
   "outputs": [],
   "source": []
  }
 ],
 "metadata": {
  "kernelspec": {
   "display_name": "base",
   "language": "python",
   "name": "python3"
  },
  "language_info": {
   "codemirror_mode": {
    "name": "ipython",
    "version": 3
   },
   "file_extension": ".py",
   "mimetype": "text/x-python",
   "name": "python",
   "nbconvert_exporter": "python",
   "pygments_lexer": "ipython3",
   "version": "3.10.6"
  },
  "orig_nbformat": 4,
  "vscode": {
   "interpreter": {
    "hash": "b07d8e3847bdfef025a0e8c33be95b9efeb027d3dacc8f10b7b66a79349a1f05"
   }
  }
 },
 "nbformat": 4,
 "nbformat_minor": 2
}
